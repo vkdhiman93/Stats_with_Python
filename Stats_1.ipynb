{
 "cells": [
  {
   "cell_type": "code",
   "execution_count": 2,
   "id": "f533f6a5",
   "metadata": {},
   "outputs": [],
   "source": [
    "import math\n",
    "import statistics\n",
    "import numpy as np\n",
    "import scipy.stats\n",
    "import pandas as pd"
   ]
  },
  {
   "cell_type": "code",
   "execution_count": 3,
   "id": "3a4b1373",
   "metadata": {},
   "outputs": [
    {
     "name": "stdout",
     "output_type": "stream",
     "text": [
      "[8.0, 1, 2.5, 4, 28.0]\n"
     ]
    },
    {
     "data": {
      "text/plain": [
       "[8.0, 1, 2.5, nan, 4, 28.0]"
      ]
     },
     "execution_count": 3,
     "metadata": {},
     "output_type": "execute_result"
    }
   ],
   "source": [
    "x = [8.0, 1, 2.5, 4, 28.0]\n",
    "x_with_nan = [8.0, 1, 2.5, math.nan, 4, 28.0]\n",
    "print(x)\n",
    "\n",
    "x_with_nan\n"
   ]
  },
  {
   "cell_type": "code",
   "execution_count": 4,
   "id": "ec447a47",
   "metadata": {},
   "outputs": [
    {
     "data": {
      "text/plain": [
       "0     8.0\n",
       "1     1.0\n",
       "2     2.5\n",
       "3     4.0\n",
       "4    28.0\n",
       "dtype: float64"
      ]
     },
     "execution_count": 4,
     "metadata": {},
     "output_type": "execute_result"
    }
   ],
   "source": [
    "y, y_with_nan = np.array(x), np.array(x_with_nan)\n",
    "z, z_with_nan = pd.Series(x), pd.Series(x_with_nan)\n",
    "z"
   ]
  },
  {
   "cell_type": "markdown",
   "id": "ca98a064",
   "metadata": {},
   "source": [
    "## Calculating Descriptive Statistics\n",
    "      1. Measures of Central Tendency"
   ]
  },
  {
   "cell_type": "code",
   "execution_count": 5,
   "id": "bee56200",
   "metadata": {},
   "outputs": [
    {
     "name": "stdout",
     "output_type": "stream",
     "text": [
      "8.7\n"
     ]
    },
    {
     "data": {
      "text/plain": [
       "8.7"
      ]
     },
     "execution_count": 5,
     "metadata": {},
     "output_type": "execute_result"
    }
   ],
   "source": [
    "mean_ = statistics.mean(x)\n",
    "print(mean_)\n",
    "\n",
    "#  fmean() is introduced in Python 3.8 as a faster alternative to mean(). It always returns a floating-point number.\n",
    "mean_ = statistics.fmean(x)\n",
    "mean_\n"
   ]
  },
  {
   "cell_type": "code",
   "execution_count": 6,
   "id": "4eea0ceb",
   "metadata": {},
   "outputs": [
    {
     "name": "stdout",
     "output_type": "stream",
     "text": [
      "nan\n"
     ]
    },
    {
     "data": {
      "text/plain": [
       "nan"
      ]
     },
     "execution_count": 6,
     "metadata": {},
     "output_type": "execute_result"
    }
   ],
   "source": [
    "mean_ = statistics.mean(x_with_nan)\n",
    "print(mean_)\n",
    "\n",
    "mean_ = statistics.fmean(x_with_nan)\n",
    "mean_"
   ]
  },
  {
   "cell_type": "code",
   "execution_count": 8,
   "id": "8a12a5a7",
   "metadata": {},
   "outputs": [
    {
     "name": "stdout",
     "output_type": "stream",
     "text": [
      "8.7\n"
     ]
    },
    {
     "data": {
      "text/plain": [
       "8.7"
      ]
     },
     "execution_count": 8,
     "metadata": {},
     "output_type": "execute_result"
    }
   ],
   "source": [
    "mean_ = np.mean(y)\n",
    "print(mean_)\n",
    "# or\n",
    "y.mean() #The function mean() and method .mean() from NumPy return the same result as statistics.mean()"
   ]
  },
  {
   "cell_type": "code",
   "execution_count": 9,
   "id": "e8b035b6",
   "metadata": {},
   "outputs": [
    {
     "data": {
      "text/plain": [
       "8.7"
      ]
     },
     "execution_count": 9,
     "metadata": {},
     "output_type": "execute_result"
    }
   ],
   "source": [
    "# If you prefer to ignore nan values, then you can use np.nanmean():\n",
    "np.nanmean(y_with_nan)"
   ]
  },
  {
   "cell_type": "code",
   "execution_count": 10,
   "id": "8eddf086",
   "metadata": {},
   "outputs": [
    {
     "data": {
      "text/plain": [
       "8.7"
      ]
     },
     "execution_count": 10,
     "metadata": {},
     "output_type": "execute_result"
    }
   ],
   "source": [
    "# pd.Series objects also have the method .mean():\n",
    "# However, .mean() from Pandas ignores nan values by default:\n",
    "z_with_nan.mean()"
   ]
  },
  {
   "cell_type": "code",
   "execution_count": 11,
   "id": "59e76198",
   "metadata": {},
   "outputs": [
    {
     "data": {
      "text/plain": [
       "6.95"
      ]
     },
     "execution_count": 11,
     "metadata": {},
     "output_type": "execute_result"
    }
   ],
   "source": [
    "# Weighted Mean\n",
    "x = [8.0, 1, 2.5, 4, 28.0]\n",
    "w = [0.1, 0.2, 0.3, 0.25, 0.15]\n",
    "np.average(x, weights=w)"
   ]
  },
  {
   "cell_type": "code",
   "execution_count": 5,
   "id": "60649618",
   "metadata": {},
   "outputs": [
    {
     "data": {
      "text/plain": [
       "2.7613412228796843"
      ]
     },
     "execution_count": 5,
     "metadata": {},
     "output_type": "execute_result"
    }
   ],
   "source": [
    "# Harmonic Mean\n",
    "hmean = len(x) / sum(1 / item for item in x)\n",
    "hmean\n"
   ]
  },
  {
   "cell_type": "code",
   "execution_count": 7,
   "id": "82b10f92",
   "metadata": {},
   "outputs": [
    {
     "data": {
      "text/plain": [
       "2.7613412228796843"
      ]
     },
     "execution_count": 7,
     "metadata": {},
     "output_type": "execute_result"
    }
   ],
   "source": [
    "scipy.stats.hmean(y)"
   ]
  },
  {
   "cell_type": "code",
   "execution_count": 8,
   "id": "73daf122",
   "metadata": {},
   "outputs": [
    {
     "data": {
      "text/plain": [
       "4.67788567485604"
      ]
     },
     "execution_count": 8,
     "metadata": {},
     "output_type": "execute_result"
    }
   ],
   "source": [
    "gmean = statistics.geometric_mean(x)\n",
    "gmean"
   ]
  },
  {
   "cell_type": "code",
   "execution_count": 10,
   "id": "09285f02",
   "metadata": {},
   "outputs": [
    {
     "name": "stdout",
     "output_type": "stream",
     "text": [
      "4.67788567485604\n"
     ]
    },
    {
     "data": {
      "text/plain": [
       "4.67788567485604"
      ]
     },
     "execution_count": 10,
     "metadata": {},
     "output_type": "execute_result"
    }
   ],
   "source": [
    "print(scipy.stats.gmean(y))\n",
    "\n",
    "scipy.stats.gmean(z)"
   ]
  },
  {
   "cell_type": "code",
   "execution_count": 11,
   "id": "816787ef",
   "metadata": {},
   "outputs": [
    {
     "data": {
      "text/plain": [
       "4"
      ]
     },
     "execution_count": 11,
     "metadata": {},
     "output_type": "execute_result"
    }
   ],
   "source": [
    "# Median\n",
    "# The sample median is the middle element of a sorted dataset.\n",
    "# The dataset can be sorted in increasing or decreasing order. If the number of elements 𝑛 of the dataset is odd, then the median is the value at the middle position: 0.5(𝑛 + 1).\n",
    "# If 𝑛 is even, then the median is the arithmetic mean of the two values in the middle, that is, the items at the positions 0.5𝑛 and 0.5𝑛 + 1.\n",
    "# The main difference between the behavior of the mean and median is related to dataset outliers or extremes.\n",
    "# The mean is heavily affected by outliers, but the median only depends on outliers either slightly or not at all.\n",
    "n = len(x)\n",
    "if n % 2:\n",
    "    median_ = sorted(x)[round(0.5*(n-1))]\n",
    "else:\n",
    "    x_ord, index = sorted(x), round(0.5 * n)\n",
    "    median_ = 0.5 * (x_ord[index-1] + x_ord[index])\n",
    "\n",
    "median_"
   ]
  },
  {
   "cell_type": "code",
   "execution_count": 19,
   "id": "c7c2ab68",
   "metadata": {},
   "outputs": [
    {
     "data": {
      "text/plain": [
       "3.25"
      ]
     },
     "execution_count": 19,
     "metadata": {},
     "output_type": "execute_result"
    }
   ],
   "source": [
    "median_ = statistics.median(x)\n",
    "median_\n",
    "\n",
    "median_ = statistics.median(x[:-1]) # The sorted version of x[:-1], which is x without the last item 28.0, is [1, 2.5, 4, 8.0]\n",
    "median_"
   ]
  },
  {
   "cell_type": "code",
   "execution_count": 20,
   "id": "74bf9330",
   "metadata": {},
   "outputs": [
    {
     "name": "stdout",
     "output_type": "stream",
     "text": [
      "6.0\n",
      "4\n",
      "8.0\n"
     ]
    }
   ],
   "source": [
    "# Unlike most other functions from the Python statistics library, median(), median_low(), and median_high() don’t return nan when there are nan values among the data points:\n",
    "print(statistics.median(x_with_nan))\n",
    "\n",
    "# If the number of elements is even, then there are two middle values. \n",
    "# In this case, median_low() returns the lower and median_high() the higher middle value.\n",
    "\n",
    "print(statistics.median_low(x_with_nan))\n",
    "\n",
    "print(statistics.median_high(x_with_nan))"
   ]
  },
  {
   "cell_type": "code",
   "execution_count": 21,
   "id": "6887cde6",
   "metadata": {},
   "outputs": [
    {
     "name": "stdout",
     "output_type": "stream",
     "text": [
      "4.0\n"
     ]
    },
    {
     "data": {
      "text/plain": [
       "3.25"
      ]
     },
     "execution_count": 21,
     "metadata": {},
     "output_type": "execute_result"
    }
   ],
   "source": [
    "print(np.nanmedian(y_with_nan))\n",
    "\n",
    "np.nanmedian(y_with_nan[:-1])"
   ]
  },
  {
   "cell_type": "code",
   "execution_count": 24,
   "id": "9fbfa42f",
   "metadata": {},
   "outputs": [
    {
     "data": {
      "text/plain": [
       "5"
      ]
     },
     "execution_count": 24,
     "metadata": {},
     "output_type": "execute_result"
    }
   ],
   "source": [
    "# Mode\n",
    "# The sample mode is the value in the dataset that occurs most frequently. \n",
    "# If there isn’t a single such value, then the set is multimodal since it has multiple modal values. For example, in the set that contains the points 2, 3, 2, 8, and 12, the number 2 is the mode because it occurs twice, unlike the other items that occur only once.\n",
    "\n",
    "#  mode with pure Python\n",
    "u = [2, 3, 2, 8, 12, 5, 9, 3, 5, 7, 5]\n",
    "\n",
    "mode_ = max((u.count(item), item) for item in set(u))[1]\n",
    "mode_"
   ]
  },
  {
   "cell_type": "code",
   "execution_count": 31,
   "id": "129159c5",
   "metadata": {},
   "outputs": [
    {
     "name": "stdout",
     "output_type": "stream",
     "text": [
      "15\n"
     ]
    },
    {
     "data": {
      "text/plain": [
       "[15, 12]"
      ]
     },
     "execution_count": 31,
     "metadata": {},
     "output_type": "execute_result"
    }
   ],
   "source": [
    "v = [15, 12, 34, 12, 15, 12, 15, 21, 15, 12]\n",
    "print(statistics.mode(v))  # returns the first value having highest frequency\n",
    "statistics.multimode(v)\n"
   ]
  },
  {
   "cell_type": "code",
   "execution_count": 32,
   "id": "6e0ec9ec",
   "metadata": {},
   "outputs": [
    {
     "name": "stdout",
     "output_type": "stream",
     "text": [
      "ModeResult(mode=array([5]), count=array([3]))\n"
     ]
    },
    {
     "data": {
      "text/plain": [
       "ModeResult(mode=array([12]), count=array([4]))"
      ]
     },
     "execution_count": 32,
     "metadata": {},
     "output_type": "execute_result"
    }
   ],
   "source": [
    "u, v = np.array(u), np.array(v)\n",
    "mode_ = scipy.stats.mode(u)\n",
    "print(mode_)\n",
    "\n",
    "mode_ = scipy.stats.mode(v) # If there are multiple modal values in the dataset, then only the smallest value is returned.\n",
    "mode_"
   ]
  },
  {
   "cell_type": "code",
   "execution_count": 33,
   "id": "a7d55a3e",
   "metadata": {},
   "outputs": [
    {
     "name": "stdout",
     "output_type": "stream",
     "text": [
      "[12]\n"
     ]
    },
    {
     "data": {
      "text/plain": [
       "array([4])"
      ]
     },
     "execution_count": 33,
     "metadata": {},
     "output_type": "execute_result"
    }
   ],
   "source": [
    "# You can get the mode and its number of occurrences as NumPy arrays with dot notation:\n",
    "print(mode_.mode)\n",
    "\n",
    "mode_.count"
   ]
  },
  {
   "cell_type": "code",
   "execution_count": 35,
   "id": "fb4a6e07",
   "metadata": {},
   "outputs": [
    {
     "name": "stdout",
     "output_type": "stream",
     "text": [
      "0    5\n",
      "dtype: int32 \n",
      "\n",
      "0    12\n",
      "1    15\n",
      "dtype: int32\n"
     ]
    },
    {
     "data": {
      "text/plain": [
       "0    2.0\n",
       "dtype: float64"
      ]
     },
     "execution_count": 35,
     "metadata": {},
     "output_type": "execute_result"
    }
   ],
   "source": [
    "# Pandas Series objects have the method .mode() that handles multimodal values well and ignores nan values by default:\n",
    "u, v, w = pd.Series(u), pd.Series(v), pd.Series([2, 2, math.nan])\n",
    "print(u.mode(),'\\n')\n",
    "\n",
    "print(v.mode())\n",
    "\n",
    "w.mode()\n",
    "#  If you want .mode() to take nan values into account, then just pass the optional argument dropna=False."
   ]
  }
 ],
 "metadata": {
  "kernelspec": {
   "display_name": "Python 3",
   "language": "python",
   "name": "python3"
  },
  "language_info": {
   "codemirror_mode": {
    "name": "ipython",
    "version": 3
   },
   "file_extension": ".py",
   "mimetype": "text/x-python",
   "name": "python",
   "nbconvert_exporter": "python",
   "pygments_lexer": "ipython3",
   "version": "3.8.5"
  }
 },
 "nbformat": 4,
 "nbformat_minor": 5
}
